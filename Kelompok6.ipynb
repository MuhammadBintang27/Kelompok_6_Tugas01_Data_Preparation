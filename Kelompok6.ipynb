{
 "cells": [
  {
   "cell_type": "markdown",
   "metadata": {},
   "source": [
    "# **Tugas 1**\n",
    "\n",
    "## **Kelompok 6**\n",
    "\n",
    "**1. Iffatun Nisa Nasrullah\t\t\t\t(2208107010009)**\n",
    "\n",
    "**2. Muhammad Bintang Indra Hidayat \t(2208107010023)**\n",
    "\n",
    "**3. Qandila Ahmara \t\t\t\t\t(2208107010039)**\n",
    "\n",
    "**4. Alhusna Hanifah \t\t\t\t\t(2208107010060)**\n",
    "\n",
    "**5. Farhanul Khair\t\t\t\t\t(2208107010076)**"
   ]
  },
  {
   "cell_type": "markdown",
   "metadata": {},
   "source": [
    "# Data Loading"
   ]
  },
  {
   "cell_type": "code",
   "execution_count": null,
   "metadata": {
    "vscode": {
     "languageId": "plaintext"
    }
   },
   "outputs": [],
   "source": [
    "import pandas as pd\n",
    "import matplotlib.pyplot as plt\n",
    "import seaborn as sns\n",
    "import geopandas as gpd\n",
    "import folium\n",
    "from folium.plugins import MarkerCluster\n",
    "import ipywidgets as widgets\n",
    "from IPython.display import display, clear_output\n",
    "import threading\n",
    "import numpy as np\n",
    "import warnings\n",
    "warnings.filterwarnings(\"ignore\", category=FutureWarning)"
   ]
  },
  {
   "cell_type": "code",
   "execution_count": null,
   "metadata": {
    "vscode": {
     "languageId": "plaintext"
    }
   },
   "outputs": [],
   "source": []
  }
 ],
 "metadata": {
  "language_info": {
   "name": "python"
  }
 },
 "nbformat": 4,
 "nbformat_minor": 2
}
