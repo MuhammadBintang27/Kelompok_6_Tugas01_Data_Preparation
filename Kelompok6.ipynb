{
 "cells": [
  {
   "cell_type": "markdown",
   "metadata": {},
   "source": [
    "# **Tugas 1**\n",
    "\n",
    "## **Kelompok 6**\n",
    "\n",
    "**1. Iffatun Nisa Nasrullah\t\t\t\t(2208107010009)**\n",
    "\n",
    "**2. Muhammad Bintang Indra Hidayat \t(2208107010023)**\n",
    "\n",
    "**3. Qandila Ahmara \t\t\t\t\t(2208107010039)**\n",
    "\n",
    "**4. Alhusna Hanifah \t\t\t\t\t(2208107010060)**\n",
    "\n",
    "**5. Farhanul Khair\t\t\t\t\t(2208107010076)**"
   ]
  },
  {
   "cell_type": "markdown",
   "metadata": {},
   "source": [
    "# Data Loading"
   ]
  },
  {
   "cell_type": "code",
   "execution_count": null,
   "metadata": {},
   "outputs": [],
   "source": [
    "import pandas as pd\n",
    "import matplotlib.pyplot as plt\n",
    "import seaborn as sns\n",
    "import geopandas as gpd\n",
    "import folium\n",
    "from folium.plugins import MarkerCluster\n",
    "import ipywidgets as widgets\n",
    "from IPython.display import display, clear_output\n",
    "import threading\n",
    "import numpy as np\n",
    "import warnings\n",
    "warnings.filterwarnings(\"ignore\", category=FutureWarning)"
   ]
  },
  {
   "cell_type": "code",
   "execution_count": null,
   "metadata": {},
   "outputs": [],
   "source": [
    "# Step 1: Baca data dari file CSV\n",
    "file_path = \"2024_Property_Tax_Roll.csv\"\n",
    "df = pd.read_csv(file_path)\n",
    "\n",
    "# Menampilkan jumlah baris dan kolom\n",
    "print(f\"Jumlah baris: {df.shape[0]}\")\n",
    "print(f\"Jumlah kolom: {df.shape[1]}\")\n",
    "\n",
    "df.head()"
   ]
  },
  {
   "cell_type": "code",
   "execution_count": null,
   "metadata": {},
   "outputs": [],
   "source": [
    "print(df.columns)"
   ]
  },
  {
   "cell_type": "code",
   "execution_count": null,
   "metadata": {},
   "outputs": [],
   "source": [
    "df.info()"
   ]
  },
  {
   "cell_type": "code",
   "execution_count": null,
   "metadata": {},
   "outputs": [],
   "source": [
    "df.describe()"
   ]
  },
  {
   "cell_type": "code",
   "execution_count": null,
   "metadata": {},
   "outputs": [],
   "source": [
    "# Menampilkan jumlah missing values per kolom\n",
    "df.isnull().sum()"
   ]
  },
  {
   "cell_type": "code",
   "execution_count": null,
   "metadata": {},
   "outputs": [],
   "source": [
    "# Mengecek jumlah data duplikat\n",
    "df.duplicated().sum()"
   ]
  }
 ],
 "metadata": {
  "kernelspec": {
   "display_name": "Python 3",
   "language": "python",
   "name": "python3"
  },
  "language_info": {
   "codemirror_mode": {
    "name": "ipython",
    "version": 3
   },
   "file_extension": ".py",
   "mimetype": "text/x-python",
   "name": "python",
   "nbconvert_exporter": "python",
   "pygments_lexer": "ipython3",
   "version": "3.10.1"
  }
 },
 "nbformat": 4,
 "nbformat_minor": 2
}
